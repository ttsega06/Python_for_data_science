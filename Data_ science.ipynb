{
 "cells": [
  {
   "cell_type": "code",
   "execution_count": 5,
   "metadata": {},
   "outputs": [
    {
     "name": "stdout",
     "output_type": "stream",
     "text": [
      "1.4.2\n"
     ]
    }
   ],
   "source": [
    "import pandas as pd\n",
    "print(pd.__version__)\n",
    "IDX_DATE = 0\n",
    "IDX_CLOSE = 4\n",
    "IDX_ADJCLOSE = 5"
   ]
  },
  {
   "cell_type": "code",
   "execution_count": 6,
   "metadata": {},
   "outputs": [],
   "source": [
    "def calcDividend(row):\n",
    "    print(row)"
   ]
  },
  {
   "cell_type": "code",
   "execution_count": 7,
   "metadata": {},
   "outputs": [
    {
     "name": "stdout",
     "output_type": "stream",
     "text": [
      "Read in IBM file, parsing...\n",
      "           Date  Dividend\n",
      "26   2018-02-08  1.500016\n",
      "88   2018-05-09  1.569990\n",
      "152  2018-08-09  1.570015\n",
      "216  2018-11-08  1.570007\n",
      "\n",
      "\n",
      "\n",
      "Read in MSFT file, parsing...\n",
      "           Date  Dividend\n",
      "30   2018-02-14  0.419997\n",
      "93   2018-05-16  0.420000\n",
      "156  2018-08-15  0.419992\n",
      "220  2018-11-14  0.460009\n",
      "\n",
      "\n",
      "\n",
      "Read in GOOG file, parsing...\n",
      "Empty DataFrame\n",
      "Columns: [Date, Dividend]\n",
      "Index: []\n",
      "\n",
      "\n",
      "\n",
      "Read in AAPL file, parsing...\n",
      "           Date  Dividend\n",
      "27   2018-02-09  0.157499\n",
      "90   2018-05-11  0.182500\n",
      "153  2018-08-10  0.182502\n",
      "216  2018-11-08  0.182502\n",
      "\n",
      "\n",
      "\n",
      "Read in AMZN file, parsing...\n",
      "Empty DataFrame\n",
      "Columns: [Date, Dividend]\n",
      "Index: []\n",
      "\n",
      "\n",
      "\n",
      "Read in FB file, parsing...\n",
      "Empty DataFrame\n",
      "Columns: [Date, Dividend]\n",
      "Index: []\n",
      "\n",
      "\n",
      "\n"
     ]
    }
   ],
   "source": [
    "\n",
    "names = ['IBM','MSFT','GOOG','AAPL','AMZN','FB']\n",
    "dataFrames = {}\n",
    "for name in names:\n",
    "    dataFrames[name] = pd.read_csv(\"./data/\" + name + \".csv\")\n",
    "    print(\"Read in {} file, parsing...\".format(name))\n",
    "    df = dataFrames[name]\n",
    "    df.drop('Open',axis=1, inplace = True)\n",
    "    df.drop('Low',axis=1, inplace = True)\n",
    "    df.drop('High',axis=1, inplace = True)\n",
    "    df.drop('Volume',axis=1, inplace = True)\n",
    "    df['Diff'] = (df['Close'].shift() / df['Close']) - (df['Adj Close'].shift() / df['Adj Close']) \n",
    "    df['Dividend'] = df['Diff'] * df['Close']\n",
    "    df.drop('Diff',axis=1, inplace = True)\n",
    "    df.drop('Close',axis=1, inplace = True)\n",
    "    df.drop('Adj Close',axis=1, inplace = True)\n",
    "    df = df[ df['Dividend'] >= 0.01 ]\n",
    "    dataFrames[name] = df\n",
    "    print(dataFrames[name])\n",
    "    print(\"\\n\\n\")\n",
    "    dataFrames[name].to_csv( name + \"_out.csv\", index = False)\n",
    "   \n",
    "   \n"
   ]
  },
  {
   "cell_type": "code",
   "execution_count": null,
   "metadata": {},
   "outputs": [],
   "source": []
  }
 ],
 "metadata": {
  "kernelspec": {
   "display_name": "Python 3 (ipykernel)",
   "language": "python",
   "name": "python3"
  },
  "language_info": {
   "codemirror_mode": {
    "name": "ipython",
    "version": 3
   },
   "file_extension": ".py",
   "mimetype": "text/x-python",
   "name": "python",
   "nbconvert_exporter": "python",
   "pygments_lexer": "ipython3",
   "version": "3.9.12"
  },
  "vscode": {
   "interpreter": {
    "hash": "e072746340e156c73f48aec0fb14a7ee6bfaffa01f580452221c9a1d05d1886f"
   }
  }
 },
 "nbformat": 4,
 "nbformat_minor": 2
}
